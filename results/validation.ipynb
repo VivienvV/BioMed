{
 "metadata": {
  "language_info": {
   "codemirror_mode": {
    "name": "ipython",
    "version": 3
   },
   "file_extension": ".py",
   "mimetype": "text/x-python",
   "name": "python",
   "nbconvert_exporter": "python",
   "pygments_lexer": "ipython3",
   "version": "3.7.6"
  },
  "orig_nbformat": 2,
  "kernelspec": {
   "name": "python376jvsc74a57bd0d89f9e0db8ec9de1f8d63865caf38d0a2356b4fd2842209f8b827ee72a018b27",
   "display_name": "Python 3.7.6 64-bit ('base': conda)"
  },
  "metadata": {
   "interpreter": {
    "hash": "d89f9e0db8ec9de1f8d63865caf38d0a2356b4fd2842209f8b827ee72a018b27"
   }
  }
 },
 "nbformat": 4,
 "nbformat_minor": 2,
 "cells": [
  {
   "cell_type": "code",
   "execution_count": 1,
   "metadata": {},
   "outputs": [],
   "source": [
    "\n",
    "\n",
    "import pandas as pd\n",
    "import argparse\n",
    "import numpy as np\n",
    "import torch\n",
    "import torch.nn as nn\n",
    "import torchvision\n",
    "import torchvision.transforms as transforms\n",
    "from torch.utils.data import TensorDataset, DataLoader, ConcatDataset\n",
    "from sklearn.model_selection import train_test_split, KFold\n",
    "import shap\n",
    "import matplotlib.pyplot as plt"
   ]
  },
  {
   "cell_type": "code",
   "execution_count": 5,
   "metadata": {},
   "outputs": [
    {
     "output_type": "execute_result",
     "data": {
      "text/plain": [
       "      Chromosome      Start        End  Nclone  Array.1  Array.61  Array.70  \\\n",
       "0              1       2927      43870       3        0         0         1   \n",
       "1              1      85022     216735       4        0         0         1   \n",
       "2              1     370546     372295       4        0         0         1   \n",
       "3              1     471671     786483       5        0         0         1   \n",
       "4              1     792533     907406      13        0         0         1   \n",
       "...          ...        ...        ...     ...      ...       ...       ...   \n",
       "2829          23  153062077  153452633      57        1         1         2   \n",
       "2830          23  153466463  153491568       4        1         0         2   \n",
       "2831          23  153504394  153933426      55        1         2         2   \n",
       "2832          23  153938998  153989329       5        1         2         2   \n",
       "2833          23  153997146  154492924      43        1         1         2   \n",
       "\n",
       "      Array.14  Array.91  Array.58  ...  Array.120  Array.108  Array.81  \\\n",
       "0           -1         0         1  ...          0          0         0   \n",
       "1           -1         0         1  ...          0          0         0   \n",
       "2           -1         0        -1  ...          0          0         0   \n",
       "3           -1         0         1  ...          0          0         0   \n",
       "4           -1         0         1  ...          0          0         0   \n",
       "...        ...       ...       ...  ...        ...        ...       ...   \n",
       "2829         1         1         1  ...          1          1         1   \n",
       "2830         1         1         1  ...          1          1         1   \n",
       "2831         1         1         1  ...          1          1         1   \n",
       "2832         1         1         1  ...          1          2         1   \n",
       "2833         1         1         1  ...          1          1         1   \n",
       "\n",
       "      Array.126  Array.92  Array.160  Array.66  Array.83  Array.128  Array.63  \n",
       "0             0         0          0         0         0         -1         0  \n",
       "1             0         0          0        -1         0         -1         0  \n",
       "2             0         0          0        -1         0         -1         0  \n",
       "3             0         0          0        -1         0         -1         0  \n",
       "4             0         0          0        -1         0         -1         0  \n",
       "...         ...       ...        ...       ...       ...        ...       ...  \n",
       "2829          1         1          1         1         1          1         1  \n",
       "2830          1         1          1         1         1          1         1  \n",
       "2831          1         1          1         1         1          1         1  \n",
       "2832          1         1          1         1         1          1         1  \n",
       "2833          1         1          1         1         1          1         1  \n",
       "\n",
       "[2834 rows x 61 columns]"
      ],
      "text/html": "<div>\n<style scoped>\n    .dataframe tbody tr th:only-of-type {\n        vertical-align: middle;\n    }\n\n    .dataframe tbody tr th {\n        vertical-align: top;\n    }\n\n    .dataframe thead th {\n        text-align: right;\n    }\n</style>\n<table border=\"1\" class=\"dataframe\">\n  <thead>\n    <tr style=\"text-align: right;\">\n      <th></th>\n      <th>Chromosome</th>\n      <th>Start</th>\n      <th>End</th>\n      <th>Nclone</th>\n      <th>Array.1</th>\n      <th>Array.61</th>\n      <th>Array.70</th>\n      <th>Array.14</th>\n      <th>Array.91</th>\n      <th>Array.58</th>\n      <th>...</th>\n      <th>Array.120</th>\n      <th>Array.108</th>\n      <th>Array.81</th>\n      <th>Array.126</th>\n      <th>Array.92</th>\n      <th>Array.160</th>\n      <th>Array.66</th>\n      <th>Array.83</th>\n      <th>Array.128</th>\n      <th>Array.63</th>\n    </tr>\n  </thead>\n  <tbody>\n    <tr>\n      <th>0</th>\n      <td>1</td>\n      <td>2927</td>\n      <td>43870</td>\n      <td>3</td>\n      <td>0</td>\n      <td>0</td>\n      <td>1</td>\n      <td>-1</td>\n      <td>0</td>\n      <td>1</td>\n      <td>...</td>\n      <td>0</td>\n      <td>0</td>\n      <td>0</td>\n      <td>0</td>\n      <td>0</td>\n      <td>0</td>\n      <td>0</td>\n      <td>0</td>\n      <td>-1</td>\n      <td>0</td>\n    </tr>\n    <tr>\n      <th>1</th>\n      <td>1</td>\n      <td>85022</td>\n      <td>216735</td>\n      <td>4</td>\n      <td>0</td>\n      <td>0</td>\n      <td>1</td>\n      <td>-1</td>\n      <td>0</td>\n      <td>1</td>\n      <td>...</td>\n      <td>0</td>\n      <td>0</td>\n      <td>0</td>\n      <td>0</td>\n      <td>0</td>\n      <td>0</td>\n      <td>-1</td>\n      <td>0</td>\n      <td>-1</td>\n      <td>0</td>\n    </tr>\n    <tr>\n      <th>2</th>\n      <td>1</td>\n      <td>370546</td>\n      <td>372295</td>\n      <td>4</td>\n      <td>0</td>\n      <td>0</td>\n      <td>1</td>\n      <td>-1</td>\n      <td>0</td>\n      <td>-1</td>\n      <td>...</td>\n      <td>0</td>\n      <td>0</td>\n      <td>0</td>\n      <td>0</td>\n      <td>0</td>\n      <td>0</td>\n      <td>-1</td>\n      <td>0</td>\n      <td>-1</td>\n      <td>0</td>\n    </tr>\n    <tr>\n      <th>3</th>\n      <td>1</td>\n      <td>471671</td>\n      <td>786483</td>\n      <td>5</td>\n      <td>0</td>\n      <td>0</td>\n      <td>1</td>\n      <td>-1</td>\n      <td>0</td>\n      <td>1</td>\n      <td>...</td>\n      <td>0</td>\n      <td>0</td>\n      <td>0</td>\n      <td>0</td>\n      <td>0</td>\n      <td>0</td>\n      <td>-1</td>\n      <td>0</td>\n      <td>-1</td>\n      <td>0</td>\n    </tr>\n    <tr>\n      <th>4</th>\n      <td>1</td>\n      <td>792533</td>\n      <td>907406</td>\n      <td>13</td>\n      <td>0</td>\n      <td>0</td>\n      <td>1</td>\n      <td>-1</td>\n      <td>0</td>\n      <td>1</td>\n      <td>...</td>\n      <td>0</td>\n      <td>0</td>\n      <td>0</td>\n      <td>0</td>\n      <td>0</td>\n      <td>0</td>\n      <td>-1</td>\n      <td>0</td>\n      <td>-1</td>\n      <td>0</td>\n    </tr>\n    <tr>\n      <th>...</th>\n      <td>...</td>\n      <td>...</td>\n      <td>...</td>\n      <td>...</td>\n      <td>...</td>\n      <td>...</td>\n      <td>...</td>\n      <td>...</td>\n      <td>...</td>\n      <td>...</td>\n      <td>...</td>\n      <td>...</td>\n      <td>...</td>\n      <td>...</td>\n      <td>...</td>\n      <td>...</td>\n      <td>...</td>\n      <td>...</td>\n      <td>...</td>\n      <td>...</td>\n      <td>...</td>\n    </tr>\n    <tr>\n      <th>2829</th>\n      <td>23</td>\n      <td>153062077</td>\n      <td>153452633</td>\n      <td>57</td>\n      <td>1</td>\n      <td>1</td>\n      <td>2</td>\n      <td>1</td>\n      <td>1</td>\n      <td>1</td>\n      <td>...</td>\n      <td>1</td>\n      <td>1</td>\n      <td>1</td>\n      <td>1</td>\n      <td>1</td>\n      <td>1</td>\n      <td>1</td>\n      <td>1</td>\n      <td>1</td>\n      <td>1</td>\n    </tr>\n    <tr>\n      <th>2830</th>\n      <td>23</td>\n      <td>153466463</td>\n      <td>153491568</td>\n      <td>4</td>\n      <td>1</td>\n      <td>0</td>\n      <td>2</td>\n      <td>1</td>\n      <td>1</td>\n      <td>1</td>\n      <td>...</td>\n      <td>1</td>\n      <td>1</td>\n      <td>1</td>\n      <td>1</td>\n      <td>1</td>\n      <td>1</td>\n      <td>1</td>\n      <td>1</td>\n      <td>1</td>\n      <td>1</td>\n    </tr>\n    <tr>\n      <th>2831</th>\n      <td>23</td>\n      <td>153504394</td>\n      <td>153933426</td>\n      <td>55</td>\n      <td>1</td>\n      <td>2</td>\n      <td>2</td>\n      <td>1</td>\n      <td>1</td>\n      <td>1</td>\n      <td>...</td>\n      <td>1</td>\n      <td>1</td>\n      <td>1</td>\n      <td>1</td>\n      <td>1</td>\n      <td>1</td>\n      <td>1</td>\n      <td>1</td>\n      <td>1</td>\n      <td>1</td>\n    </tr>\n    <tr>\n      <th>2832</th>\n      <td>23</td>\n      <td>153938998</td>\n      <td>153989329</td>\n      <td>5</td>\n      <td>1</td>\n      <td>2</td>\n      <td>2</td>\n      <td>1</td>\n      <td>1</td>\n      <td>1</td>\n      <td>...</td>\n      <td>1</td>\n      <td>2</td>\n      <td>1</td>\n      <td>1</td>\n      <td>1</td>\n      <td>1</td>\n      <td>1</td>\n      <td>1</td>\n      <td>1</td>\n      <td>1</td>\n    </tr>\n    <tr>\n      <th>2833</th>\n      <td>23</td>\n      <td>153997146</td>\n      <td>154492924</td>\n      <td>43</td>\n      <td>1</td>\n      <td>1</td>\n      <td>2</td>\n      <td>1</td>\n      <td>1</td>\n      <td>1</td>\n      <td>...</td>\n      <td>1</td>\n      <td>1</td>\n      <td>1</td>\n      <td>1</td>\n      <td>1</td>\n      <td>1</td>\n      <td>1</td>\n      <td>1</td>\n      <td>1</td>\n      <td>1</td>\n    </tr>\n  </tbody>\n</table>\n<p>2834 rows × 61 columns</p>\n</div>"
     },
     "metadata": {},
     "execution_count": 5
    }
   ],
   "source": [
    "val_call = pd.read_csv('Validation_call.txt', delimiter='\\t' )\n",
    "val_call"
   ]
  },
  {
   "cell_type": "code",
   "execution_count": 6,
   "metadata": {},
   "outputs": [
    {
     "output_type": "execute_result",
     "data": {
      "text/plain": [
       "array([[ 0,  0,  0, ...,  1,  1,  1],\n",
       "       [ 0,  0,  0, ...,  2,  2,  1],\n",
       "       [ 1,  1,  1, ...,  2,  2,  2],\n",
       "       ...,\n",
       "       [ 0,  0,  0, ...,  1,  1,  1],\n",
       "       [-1, -1, -1, ...,  1,  1,  1],\n",
       "       [ 0,  0,  0, ...,  1,  1,  1]])"
      ]
     },
     "metadata": {},
     "execution_count": 6
    }
   ],
   "source": [
    "val_arr = val_call[val_call.columns[-57:]].to_numpy()\n",
    "val_arr = val_arr.T\n",
    "val_arr"
   ]
  },
  {
   "cell_type": "code",
   "execution_count": null,
   "metadata": {},
   "outputs": [],
   "source": [
    "predictions = model.predict(val_arr)"
   ]
  }
 ]
}