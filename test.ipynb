{
 "metadata": {
  "language_info": {
   "codemirror_mode": {
    "name": "ipython",
    "version": 3
   },
   "file_extension": ".py",
   "mimetype": "text/x-python",
   "name": "python",
   "nbconvert_exporter": "python",
   "pygments_lexer": "ipython3",
   "version": "3.7.6"
  },
  "orig_nbformat": 2,
  "kernelspec": {
   "name": "python376jvsc74a57bd0d89f9e0db8ec9de1f8d63865caf38d0a2356b4fd2842209f8b827ee72a018b27",
   "display_name": "Python 3.7.6 64-bit ('base': conda)"
  },
  "metadata": {
   "interpreter": {
    "hash": "d89f9e0db8ec9de1f8d63865caf38d0a2356b4fd2842209f8b827ee72a018b27"
   }
  }
 },
 "nbformat": 4,
 "nbformat_minor": 2,
 "cells": [
  {
   "cell_type": "code",
   "execution_count": 15,
   "metadata": {},
   "outputs": [],
   "source": [
    "import argparse\n",
    "import sys\n",
    "import pickle\n",
    "import torch\n",
    "import torch.nn as nn\n",
    "import torch.optim as optim\n",
    "import pandas as pd\n",
    "from sklearn.feature_selection import SelectKBest, VarianceThreshold\n",
    "import numpy\n",
    "from skorch import NeuralNetClassifier"
   ]
  },
  {
   "cell_type": "code",
   "execution_count": 16,
   "metadata": {},
   "outputs": [],
   "source": [
    "fi = pd.read_csv('feature_importance.csv', delimiter=',')\n",
    "fi = fi.iloc[:-7]\n",
    "fi = fi['feature_no'].tolist()"
   ]
  },
  {
   "cell_type": "code",
   "execution_count": 17,
   "metadata": {},
   "outputs": [
    {
     "output_type": "execute_result",
     "data": {
      "text/plain": [
       "      Chromosome      Start        End  Nclone  Array.1  Array.61  Array.70  \\\n",
       "0              1       2927      43870       3        0         0         1   \n",
       "1              1      85022     216735       4        0         0         1   \n",
       "2              1     370546     372295       4        0         0         1   \n",
       "3              1     471671     786483       5        0         0         1   \n",
       "4              1     792533     907406      13        0         0         1   \n",
       "...          ...        ...        ...     ...      ...       ...       ...   \n",
       "2829          23  153062077  153452633      57        1         1         2   \n",
       "2830          23  153466463  153491568       4        1         0         2   \n",
       "2831          23  153504394  153933426      55        1         2         2   \n",
       "2832          23  153938998  153989329       5        1         2         2   \n",
       "2833          23  153997146  154492924      43        1         1         2   \n",
       "\n",
       "      Array.14  Array.91  Array.58  ...  Array.120  Array.108  Array.81  \\\n",
       "0           -1         0         1  ...          0          0         0   \n",
       "1           -1         0         1  ...          0          0         0   \n",
       "2           -1         0        -1  ...          0          0         0   \n",
       "3           -1         0         1  ...          0          0         0   \n",
       "4           -1         0         1  ...          0          0         0   \n",
       "...        ...       ...       ...  ...        ...        ...       ...   \n",
       "2829         1         1         1  ...          1          1         1   \n",
       "2830         1         1         1  ...          1          1         1   \n",
       "2831         1         1         1  ...          1          1         1   \n",
       "2832         1         1         1  ...          1          2         1   \n",
       "2833         1         1         1  ...          1          1         1   \n",
       "\n",
       "      Array.126  Array.92  Array.160  Array.66  Array.83  Array.128  Array.63  \n",
       "0             0         0          0         0         0         -1         0  \n",
       "1             0         0          0        -1         0         -1         0  \n",
       "2             0         0          0        -1         0         -1         0  \n",
       "3             0         0          0        -1         0         -1         0  \n",
       "4             0         0          0        -1         0         -1         0  \n",
       "...         ...       ...        ...       ...       ...        ...       ...  \n",
       "2829          1         1          1         1         1          1         1  \n",
       "2830          1         1          1         1         1          1         1  \n",
       "2831          1         1          1         1         1          1         1  \n",
       "2832          1         1          1         1         1          1         1  \n",
       "2833          1         1          1         1         1          1         1  \n",
       "\n",
       "[2834 rows x 61 columns]"
      ],
      "text/html": "<div>\n<style scoped>\n    .dataframe tbody tr th:only-of-type {\n        vertical-align: middle;\n    }\n\n    .dataframe tbody tr th {\n        vertical-align: top;\n    }\n\n    .dataframe thead th {\n        text-align: right;\n    }\n</style>\n<table border=\"1\" class=\"dataframe\">\n  <thead>\n    <tr style=\"text-align: right;\">\n      <th></th>\n      <th>Chromosome</th>\n      <th>Start</th>\n      <th>End</th>\n      <th>Nclone</th>\n      <th>Array.1</th>\n      <th>Array.61</th>\n      <th>Array.70</th>\n      <th>Array.14</th>\n      <th>Array.91</th>\n      <th>Array.58</th>\n      <th>...</th>\n      <th>Array.120</th>\n      <th>Array.108</th>\n      <th>Array.81</th>\n      <th>Array.126</th>\n      <th>Array.92</th>\n      <th>Array.160</th>\n      <th>Array.66</th>\n      <th>Array.83</th>\n      <th>Array.128</th>\n      <th>Array.63</th>\n    </tr>\n  </thead>\n  <tbody>\n    <tr>\n      <th>0</th>\n      <td>1</td>\n      <td>2927</td>\n      <td>43870</td>\n      <td>3</td>\n      <td>0</td>\n      <td>0</td>\n      <td>1</td>\n      <td>-1</td>\n      <td>0</td>\n      <td>1</td>\n      <td>...</td>\n      <td>0</td>\n      <td>0</td>\n      <td>0</td>\n      <td>0</td>\n      <td>0</td>\n      <td>0</td>\n      <td>0</td>\n      <td>0</td>\n      <td>-1</td>\n      <td>0</td>\n    </tr>\n    <tr>\n      <th>1</th>\n      <td>1</td>\n      <td>85022</td>\n      <td>216735</td>\n      <td>4</td>\n      <td>0</td>\n      <td>0</td>\n      <td>1</td>\n      <td>-1</td>\n      <td>0</td>\n      <td>1</td>\n      <td>...</td>\n      <td>0</td>\n      <td>0</td>\n      <td>0</td>\n      <td>0</td>\n      <td>0</td>\n      <td>0</td>\n      <td>-1</td>\n      <td>0</td>\n      <td>-1</td>\n      <td>0</td>\n    </tr>\n    <tr>\n      <th>2</th>\n      <td>1</td>\n      <td>370546</td>\n      <td>372295</td>\n      <td>4</td>\n      <td>0</td>\n      <td>0</td>\n      <td>1</td>\n      <td>-1</td>\n      <td>0</td>\n      <td>-1</td>\n      <td>...</td>\n      <td>0</td>\n      <td>0</td>\n      <td>0</td>\n      <td>0</td>\n      <td>0</td>\n      <td>0</td>\n      <td>-1</td>\n      <td>0</td>\n      <td>-1</td>\n      <td>0</td>\n    </tr>\n    <tr>\n      <th>3</th>\n      <td>1</td>\n      <td>471671</td>\n      <td>786483</td>\n      <td>5</td>\n      <td>0</td>\n      <td>0</td>\n      <td>1</td>\n      <td>-1</td>\n      <td>0</td>\n      <td>1</td>\n      <td>...</td>\n      <td>0</td>\n      <td>0</td>\n      <td>0</td>\n      <td>0</td>\n      <td>0</td>\n      <td>0</td>\n      <td>-1</td>\n      <td>0</td>\n      <td>-1</td>\n      <td>0</td>\n    </tr>\n    <tr>\n      <th>4</th>\n      <td>1</td>\n      <td>792533</td>\n      <td>907406</td>\n      <td>13</td>\n      <td>0</td>\n      <td>0</td>\n      <td>1</td>\n      <td>-1</td>\n      <td>0</td>\n      <td>1</td>\n      <td>...</td>\n      <td>0</td>\n      <td>0</td>\n      <td>0</td>\n      <td>0</td>\n      <td>0</td>\n      <td>0</td>\n      <td>-1</td>\n      <td>0</td>\n      <td>-1</td>\n      <td>0</td>\n    </tr>\n    <tr>\n      <th>...</th>\n      <td>...</td>\n      <td>...</td>\n      <td>...</td>\n      <td>...</td>\n      <td>...</td>\n      <td>...</td>\n      <td>...</td>\n      <td>...</td>\n      <td>...</td>\n      <td>...</td>\n      <td>...</td>\n      <td>...</td>\n      <td>...</td>\n      <td>...</td>\n      <td>...</td>\n      <td>...</td>\n      <td>...</td>\n      <td>...</td>\n      <td>...</td>\n      <td>...</td>\n      <td>...</td>\n    </tr>\n    <tr>\n      <th>2829</th>\n      <td>23</td>\n      <td>153062077</td>\n      <td>153452633</td>\n      <td>57</td>\n      <td>1</td>\n      <td>1</td>\n      <td>2</td>\n      <td>1</td>\n      <td>1</td>\n      <td>1</td>\n      <td>...</td>\n      <td>1</td>\n      <td>1</td>\n      <td>1</td>\n      <td>1</td>\n      <td>1</td>\n      <td>1</td>\n      <td>1</td>\n      <td>1</td>\n      <td>1</td>\n      <td>1</td>\n    </tr>\n    <tr>\n      <th>2830</th>\n      <td>23</td>\n      <td>153466463</td>\n      <td>153491568</td>\n      <td>4</td>\n      <td>1</td>\n      <td>0</td>\n      <td>2</td>\n      <td>1</td>\n      <td>1</td>\n      <td>1</td>\n      <td>...</td>\n      <td>1</td>\n      <td>1</td>\n      <td>1</td>\n      <td>1</td>\n      <td>1</td>\n      <td>1</td>\n      <td>1</td>\n      <td>1</td>\n      <td>1</td>\n      <td>1</td>\n    </tr>\n    <tr>\n      <th>2831</th>\n      <td>23</td>\n      <td>153504394</td>\n      <td>153933426</td>\n      <td>55</td>\n      <td>1</td>\n      <td>2</td>\n      <td>2</td>\n      <td>1</td>\n      <td>1</td>\n      <td>1</td>\n      <td>...</td>\n      <td>1</td>\n      <td>1</td>\n      <td>1</td>\n      <td>1</td>\n      <td>1</td>\n      <td>1</td>\n      <td>1</td>\n      <td>1</td>\n      <td>1</td>\n      <td>1</td>\n    </tr>\n    <tr>\n      <th>2832</th>\n      <td>23</td>\n      <td>153938998</td>\n      <td>153989329</td>\n      <td>5</td>\n      <td>1</td>\n      <td>2</td>\n      <td>2</td>\n      <td>1</td>\n      <td>1</td>\n      <td>1</td>\n      <td>...</td>\n      <td>1</td>\n      <td>2</td>\n      <td>1</td>\n      <td>1</td>\n      <td>1</td>\n      <td>1</td>\n      <td>1</td>\n      <td>1</td>\n      <td>1</td>\n      <td>1</td>\n    </tr>\n    <tr>\n      <th>2833</th>\n      <td>23</td>\n      <td>153997146</td>\n      <td>154492924</td>\n      <td>43</td>\n      <td>1</td>\n      <td>1</td>\n      <td>2</td>\n      <td>1</td>\n      <td>1</td>\n      <td>1</td>\n      <td>...</td>\n      <td>1</td>\n      <td>1</td>\n      <td>1</td>\n      <td>1</td>\n      <td>1</td>\n      <td>1</td>\n      <td>1</td>\n      <td>1</td>\n      <td>1</td>\n      <td>1</td>\n    </tr>\n  </tbody>\n</table>\n<p>2834 rows × 61 columns</p>\n</div>"
     },
     "metadata": {},
     "execution_count": 17
    }
   ],
   "source": [
    "val_call = pd.read_csv('Validation_call.txt', delimiter='\\t' )\n",
    "val_call"
   ]
  },
  {
   "cell_type": "code",
   "execution_count": 18,
   "metadata": {},
   "outputs": [
    {
     "output_type": "execute_result",
     "data": {
      "text/plain": [
       "      Chromosome      Start        End  Nclone  Array.1  Array.61  Array.70  \\\n",
       "2184          17   35076296   35282086      29        0         2         2   \n",
       "192            1  149369522  149394958       5       -1         1         1   \n",
       "1061           8   36512939   36612488       5        1         0         0   \n",
       "1062           8   36627162   36673994       3        1         1         0   \n",
       "1059           8   36347029   36416687       4        1         0         0   \n",
       "...          ...        ...        ...     ...      ...       ...       ...   \n",
       "1804          14   29606446   30197701      43        0         1         0   \n",
       "1703          12  127229464  129598126     225        1         0         1   \n",
       "1978          16   33433058   33486907       5        1         0         1   \n",
       "935            7   50712505   53062228     103        0         1         1   \n",
       "2245          17   45521020   45876378      51        0         0         1   \n",
       "\n",
       "      Array.14  Array.91  Array.58  ...  Array.120  Array.108  Array.81  \\\n",
       "2184         2         0         1  ...          2          0         2   \n",
       "192         -1         0         2  ...          2          0        -1   \n",
       "1061        -1         0         0  ...          1          0        -1   \n",
       "1062        -1         0         0  ...          1          0        -1   \n",
       "1059        -1         0         0  ...          1          0        -1   \n",
       "...        ...       ...       ...  ...        ...        ...       ...   \n",
       "1804         0         0         0  ...          0          0         0   \n",
       "1703         0         0         0  ...          1          0        -1   \n",
       "1978         1         0         1  ...          1          1         0   \n",
       "935         -1         0         1  ...          0          0         0   \n",
       "2245         0         0         0  ...         -1          0        -1   \n",
       "\n",
       "      Array.126  Array.92  Array.160  Array.66  Array.83  Array.128  Array.63  \n",
       "2184          1         0          0        -1         0          2         0  \n",
       "192           0         2          0        -1         2         -1         1  \n",
       "1061          2         0          0         0         0         -1         0  \n",
       "1062          2         0          0         0         0         -1         0  \n",
       "1059          2         0          0         0         0         -1         0  \n",
       "...         ...       ...        ...       ...       ...        ...       ...  \n",
       "1804          1         0          0         0         0         -1         0  \n",
       "1703          0         0          0         0         0          0         0  \n",
       "1978          1         1          0         0         0          0         0  \n",
       "935           1         0          0         0         0          0         0  \n",
       "2245          1         0          0        -1        -1         -1         0  \n",
       "\n",
       "[900 rows x 61 columns]"
      ],
      "text/html": "<div>\n<style scoped>\n    .dataframe tbody tr th:only-of-type {\n        vertical-align: middle;\n    }\n\n    .dataframe tbody tr th {\n        vertical-align: top;\n    }\n\n    .dataframe thead th {\n        text-align: right;\n    }\n</style>\n<table border=\"1\" class=\"dataframe\">\n  <thead>\n    <tr style=\"text-align: right;\">\n      <th></th>\n      <th>Chromosome</th>\n      <th>Start</th>\n      <th>End</th>\n      <th>Nclone</th>\n      <th>Array.1</th>\n      <th>Array.61</th>\n      <th>Array.70</th>\n      <th>Array.14</th>\n      <th>Array.91</th>\n      <th>Array.58</th>\n      <th>...</th>\n      <th>Array.120</th>\n      <th>Array.108</th>\n      <th>Array.81</th>\n      <th>Array.126</th>\n      <th>Array.92</th>\n      <th>Array.160</th>\n      <th>Array.66</th>\n      <th>Array.83</th>\n      <th>Array.128</th>\n      <th>Array.63</th>\n    </tr>\n  </thead>\n  <tbody>\n    <tr>\n      <th>2184</th>\n      <td>17</td>\n      <td>35076296</td>\n      <td>35282086</td>\n      <td>29</td>\n      <td>0</td>\n      <td>2</td>\n      <td>2</td>\n      <td>2</td>\n      <td>0</td>\n      <td>1</td>\n      <td>...</td>\n      <td>2</td>\n      <td>0</td>\n      <td>2</td>\n      <td>1</td>\n      <td>0</td>\n      <td>0</td>\n      <td>-1</td>\n      <td>0</td>\n      <td>2</td>\n      <td>0</td>\n    </tr>\n    <tr>\n      <th>192</th>\n      <td>1</td>\n      <td>149369522</td>\n      <td>149394958</td>\n      <td>5</td>\n      <td>-1</td>\n      <td>1</td>\n      <td>1</td>\n      <td>-1</td>\n      <td>0</td>\n      <td>2</td>\n      <td>...</td>\n      <td>2</td>\n      <td>0</td>\n      <td>-1</td>\n      <td>0</td>\n      <td>2</td>\n      <td>0</td>\n      <td>-1</td>\n      <td>2</td>\n      <td>-1</td>\n      <td>1</td>\n    </tr>\n    <tr>\n      <th>1061</th>\n      <td>8</td>\n      <td>36512939</td>\n      <td>36612488</td>\n      <td>5</td>\n      <td>1</td>\n      <td>0</td>\n      <td>0</td>\n      <td>-1</td>\n      <td>0</td>\n      <td>0</td>\n      <td>...</td>\n      <td>1</td>\n      <td>0</td>\n      <td>-1</td>\n      <td>2</td>\n      <td>0</td>\n      <td>0</td>\n      <td>0</td>\n      <td>0</td>\n      <td>-1</td>\n      <td>0</td>\n    </tr>\n    <tr>\n      <th>1062</th>\n      <td>8</td>\n      <td>36627162</td>\n      <td>36673994</td>\n      <td>3</td>\n      <td>1</td>\n      <td>1</td>\n      <td>0</td>\n      <td>-1</td>\n      <td>0</td>\n      <td>0</td>\n      <td>...</td>\n      <td>1</td>\n      <td>0</td>\n      <td>-1</td>\n      <td>2</td>\n      <td>0</td>\n      <td>0</td>\n      <td>0</td>\n      <td>0</td>\n      <td>-1</td>\n      <td>0</td>\n    </tr>\n    <tr>\n      <th>1059</th>\n      <td>8</td>\n      <td>36347029</td>\n      <td>36416687</td>\n      <td>4</td>\n      <td>1</td>\n      <td>0</td>\n      <td>0</td>\n      <td>-1</td>\n      <td>0</td>\n      <td>0</td>\n      <td>...</td>\n      <td>1</td>\n      <td>0</td>\n      <td>-1</td>\n      <td>2</td>\n      <td>0</td>\n      <td>0</td>\n      <td>0</td>\n      <td>0</td>\n      <td>-1</td>\n      <td>0</td>\n    </tr>\n    <tr>\n      <th>...</th>\n      <td>...</td>\n      <td>...</td>\n      <td>...</td>\n      <td>...</td>\n      <td>...</td>\n      <td>...</td>\n      <td>...</td>\n      <td>...</td>\n      <td>...</td>\n      <td>...</td>\n      <td>...</td>\n      <td>...</td>\n      <td>...</td>\n      <td>...</td>\n      <td>...</td>\n      <td>...</td>\n      <td>...</td>\n      <td>...</td>\n      <td>...</td>\n      <td>...</td>\n      <td>...</td>\n    </tr>\n    <tr>\n      <th>1804</th>\n      <td>14</td>\n      <td>29606446</td>\n      <td>30197701</td>\n      <td>43</td>\n      <td>0</td>\n      <td>1</td>\n      <td>0</td>\n      <td>0</td>\n      <td>0</td>\n      <td>0</td>\n      <td>...</td>\n      <td>0</td>\n      <td>0</td>\n      <td>0</td>\n      <td>1</td>\n      <td>0</td>\n      <td>0</td>\n      <td>0</td>\n      <td>0</td>\n      <td>-1</td>\n      <td>0</td>\n    </tr>\n    <tr>\n      <th>1703</th>\n      <td>12</td>\n      <td>127229464</td>\n      <td>129598126</td>\n      <td>225</td>\n      <td>1</td>\n      <td>0</td>\n      <td>1</td>\n      <td>0</td>\n      <td>0</td>\n      <td>0</td>\n      <td>...</td>\n      <td>1</td>\n      <td>0</td>\n      <td>-1</td>\n      <td>0</td>\n      <td>0</td>\n      <td>0</td>\n      <td>0</td>\n      <td>0</td>\n      <td>0</td>\n      <td>0</td>\n    </tr>\n    <tr>\n      <th>1978</th>\n      <td>16</td>\n      <td>33433058</td>\n      <td>33486907</td>\n      <td>5</td>\n      <td>1</td>\n      <td>0</td>\n      <td>1</td>\n      <td>1</td>\n      <td>0</td>\n      <td>1</td>\n      <td>...</td>\n      <td>1</td>\n      <td>1</td>\n      <td>0</td>\n      <td>1</td>\n      <td>1</td>\n      <td>0</td>\n      <td>0</td>\n      <td>0</td>\n      <td>0</td>\n      <td>0</td>\n    </tr>\n    <tr>\n      <th>935</th>\n      <td>7</td>\n      <td>50712505</td>\n      <td>53062228</td>\n      <td>103</td>\n      <td>0</td>\n      <td>1</td>\n      <td>1</td>\n      <td>-1</td>\n      <td>0</td>\n      <td>1</td>\n      <td>...</td>\n      <td>0</td>\n      <td>0</td>\n      <td>0</td>\n      <td>1</td>\n      <td>0</td>\n      <td>0</td>\n      <td>0</td>\n      <td>0</td>\n      <td>0</td>\n      <td>0</td>\n    </tr>\n    <tr>\n      <th>2245</th>\n      <td>17</td>\n      <td>45521020</td>\n      <td>45876378</td>\n      <td>51</td>\n      <td>0</td>\n      <td>0</td>\n      <td>1</td>\n      <td>0</td>\n      <td>0</td>\n      <td>0</td>\n      <td>...</td>\n      <td>-1</td>\n      <td>0</td>\n      <td>-1</td>\n      <td>1</td>\n      <td>0</td>\n      <td>0</td>\n      <td>-1</td>\n      <td>-1</td>\n      <td>-1</td>\n      <td>0</td>\n    </tr>\n  </tbody>\n</table>\n<p>900 rows × 61 columns</p>\n</div>"
     },
     "metadata": {},
     "execution_count": 18
    }
   ],
   "source": [
    "val_call = val_call.iloc[fi]\n",
    "val_call"
   ]
  },
  {
   "cell_type": "code",
   "execution_count": null,
   "metadata": {},
   "outputs": [],
   "source": []
  },
  {
   "cell_type": "code",
   "execution_count": null,
   "metadata": {},
   "outputs": [],
   "source": []
  }
 ]
}